{
  "cells": [
    {
      "cell_type": "markdown",
      "metadata": {
        "id": "view-in-github",
        "colab_type": "text"
      },
      "source": [
        "<a href=\"https://colab.research.google.com/github/AdamM1909/Mini-GPT2-Implementation/blob/master/GPU_time_series_GPT.ipynb\" target=\"_parent\"><img src=\"https://colab.research.google.com/assets/colab-badge.svg\" alt=\"Open In Colab\"/></a>"
      ]
    },
    {
      "cell_type": "markdown",
      "id": "61bfcda6",
      "metadata": {
        "id": "61bfcda6"
      },
      "source": [
        "## Adapting The GPT2 for Time Series\n",
        "\n",
        "Paper: Autoformer: Decomposition Transformers with\n",
        "Auto-Correlation for Long-Term Series Forecasting\n",
        "\n",
        "\n"
      ]
    },
    {
      "cell_type": "code",
      "execution_count": 2,
      "id": "baeed7ab",
      "metadata": {
        "id": "baeed7ab",
        "colab": {
          "base_uri": "https://localhost:8080/"
        },
        "outputId": "c2b0eda1-f4bd-47e3-a317-250b88a19a6c"
      },
      "outputs": [
        {
          "output_type": "execute_result",
          "data": {
            "text/plain": [
              "<torch._C.Generator at 0x7f365c2d0e50>"
            ]
          },
          "metadata": {},
          "execution_count": 2
        }
      ],
      "source": [
        "import numpy as np\n",
        "import pandas as pd\n",
        "import math\n",
        "import time\n",
        "import matplotlib.pyplot as plt\n",
        "from dataclasses import dataclass\n",
        "import torch\n",
        "import torch.nn as nn\n",
        "from torch.utils.data import TensorDataset, DataLoader, Subset\n",
        "from torch.nn import functional as F\n",
        "from sklearn.model_selection import train_test_split\n",
        "from typing import Tuple\n",
        "\n",
        "torch.manual_seed(1)"
      ]
    },
    {
      "cell_type": "code",
      "execution_count": 3,
      "id": "a7c811a4",
      "metadata": {
        "id": "a7c811a4"
      },
      "outputs": [],
      "source": [
        "class TS_Handler:\n",
        "\n",
        "    def __init__(self, df, context_length, n_predict, target_col_idx_list=[-1], test_size=0.2):\n",
        "        self.context_length = context_length\n",
        "        self.n_predict = n_predict\n",
        "        assert self.context_length != 0\n",
        "        assert self.n_predict != 0\n",
        "\n",
        "        # Load, split without shuffle and make context length exmaples.\n",
        "        self.ts = torch.tensor(df.values, dtype=torch.float)\n",
        "        self.ts_len = len(df)\n",
        "        self.ts_d = df.shape[1]\n",
        "        self.target_col_idx_list = target_col_idx_list\n",
        "\n",
        "        # 6:2:2 ratio\n",
        "        self.train_ts, val_ts = train_test_split(self.ts, test_size=0.4, shuffle=False)\n",
        "        self.val_ts, self.test_ts = train_test_split(val_ts, test_size=0.5, shuffle=False)\n",
        "\n",
        "        self.X_train, self.y_train = self.make_examples(self.train_ts)\n",
        "        self.X_val, self.y_val = self.make_examples(self.val_ts)\n",
        "        self.X_test, self.y_test = self.make_examples(self.test_ts)\n",
        "\n",
        "        self.train_dataset = TensorDataset(self.X_train, self.y_train)\n",
        "        self.val_dataset = TensorDataset(self.X_val, self.y_val)\n",
        "        self.test_dataset = TensorDataset(self.X_test, self.y_test)\n",
        "        print(f\"Number of training, val, and testing examples: {len(self.train_dataset)}, {len(self.val_dataset)}, {len(self.test_dataset)}\")\n",
        "\n",
        "    def pre_process_text(self):\n",
        "        chars = sorted(list(set(self.raw_text)))\n",
        "        vocab_size = len(chars)\n",
        "        stoi = {char: i for i, char in enumerate(chars)}\n",
        "        itos = {i: char for char, i in stoi.items()}\n",
        "        return vocab_size, stoi, itos\n",
        "\n",
        "    def make_examples(self, ts, verbose=False):\n",
        "        n_examples = ts.shape[0] - (self.context_length + self.n_predict)\n",
        "        X = torch.empty(n_examples, self.context_length, self.ts_d, dtype=torch.float)\n",
        "        Y = torch.empty(n_examples, self.n_predict, len(self.target_col_idx_list), dtype=torch.float)\n",
        "\n",
        "        # This will have to change for multivariate TS\n",
        "        for i in range(n_examples):\n",
        "            X[i] = ts[i:i+self.context_length,:]\n",
        "            Y[i] = ts[i+self.context_length:i+self.context_length+self.n_predict, self.target_col_idx_list]\n",
        "            if verbose: print(f\"Example {i+1:2d}: {X[i].tolist()} --> {Y[i].item()}\")\n",
        "\n",
        "        return X, Y\n"
      ]
    },
    {
      "cell_type": "markdown",
      "id": "efe78c0c",
      "metadata": {
        "id": "efe78c0c"
      },
      "source": [
        "# Embedding The Time Series"
      ]
    },
    {
      "cell_type": "code",
      "execution_count": 4,
      "id": "2574c1f1",
      "metadata": {
        "id": "2574c1f1"
      },
      "outputs": [],
      "source": [
        "class Temporal_Embedding(nn.Module):\n",
        "    def __init__(self, n_embd):\n",
        "        super().__init__()\n",
        "        hour_size = 24\n",
        "        weekday_size = 7\n",
        "        day_size = 32\n",
        "        month_size = 12\n",
        "\n",
        "        self.hour_embd = nn.Embedding(hour_size, n_embd)\n",
        "        self.weekday_embd = nn.Embedding(weekday_size, n_embd)\n",
        "        self.day_embd = nn.Embedding(day_size, n_embd)\n",
        "        self.month_embd = nn.Embedding(month_size, n_embd)\n",
        "\n",
        "    def forward(self, x):\n",
        "        print(f'{x=}')\n",
        "        x = x.long()\n",
        "        print(f'{x.long=}')\n",
        "        hour_embed = self.hour_embd(x[:, :, 3])\n",
        "        weekday_embed = self.weekday_embd(x[:, :, 2])\n",
        "        day_embed = self.day_embd(x[:, :, 1])\n",
        "        month_embed = self.month_embd(x[:, :, 0])\n",
        "\n",
        "        return hour_embed + weekday_embed + day_embed + month_embed\n",
        "\n",
        "\n",
        "\n",
        "\n",
        "\n",
        "class TS_Embedding(nn.Module):\n",
        "    def __init__(self, config , encoder):\n",
        "        super().__init__()\n",
        "        self.token_embd = nn.Conv1d(in_channels=config.c_in, out_channels=config.n_embd,\n",
        "                                   kernel_size=3, padding=1, padding_mode='circular', bias=False)\n",
        "\n",
        "        self.temporal_embd = Temporal_Embedding(config.n_embd)\n",
        "\n",
        "        # if encoder:\n",
        "        #     self.positional_embd = nn.Embedding(config.context_length, config.n_embd)\n",
        "        # else:\n",
        "        #     self.positional_embd = nn.Embedding(config.context_length//2 + config.n_predict, config.n_embd)\n",
        "\n",
        "\n",
        "    def forward(self, x, temp_features):\n",
        "        device = x.device\n",
        "        n_graphs, n_nodes, c_in = x.size()\n",
        "        # positions = torch.arange(0, n_nodes, dtype=torch.long, device=device).unsqueeze(dim=0)\n",
        "\n",
        "        token_embd = self.token_embd(x.transpose(1, 2)).transpose(1, 2)\n",
        "        temporal_embd = self.temporal_embd(temp_features)\n",
        "        # positional_embd = self.positional_embd(positions)\n",
        "\n",
        "        x = token_embd + temporal_embd\n",
        "        return x\n"
      ]
    },
    {
      "cell_type": "markdown",
      "id": "dfa14928",
      "metadata": {
        "id": "dfa14928"
      },
      "source": [
        "# Time Series Decomposition"
      ]
    },
    {
      "cell_type": "code",
      "execution_count": 5,
      "id": "8f80f7de",
      "metadata": {
        "id": "8f80f7de"
      },
      "outputs": [],
      "source": [
        "\n",
        "class Moving_Avg(nn.Module):\n",
        "\n",
        "    def __init__(self, kernel_size, stride):\n",
        "        super().__init__()\n",
        "        self.kernel_size = kernel_size\n",
        "        self.avg = nn.AvgPool1d(kernel_size=kernel_size, stride=stride, padding=0)\n",
        "\n",
        "    def forward(self, x):\n",
        "        # Padding on the both ends of time series\n",
        "        front = x[:, 0:1, :].repeat(1, (self.kernel_size - 1) // 2, 1)\n",
        "        end = x[:, -1:, :].repeat(1, (self.kernel_size - 1) // 2, 1)\n",
        "        x = torch.cat([front, x, end], dim=1)\n",
        "        x = self.avg(x.permute(0, 2, 1))\n",
        "        x = x.permute(0, 2, 1)\n",
        "        return x\n",
        "\n",
        "class Series_Decomposition(nn.Module):\n",
        "\n",
        "    def __init__(self, config):\n",
        "        super().__init__()\n",
        "        self.moving_avg = Moving_Avg(kernel_size=config.MA_window, stride=1)\n",
        "\n",
        "    def forward(self, x):\n",
        "        trend = self.moving_avg(x)\n",
        "        residual = x - trend\n",
        "        return residual, trend\n"
      ]
    },
    {
      "cell_type": "markdown",
      "id": "157b7a09",
      "metadata": {
        "id": "157b7a09"
      },
      "source": [
        "# Auto-Correlation Attention"
      ]
    },
    {
      "cell_type": "code",
      "execution_count": 6,
      "id": "dd97531d",
      "metadata": {
        "id": "dd97531d"
      },
      "outputs": [],
      "source": [
        "class Auto_Correlation_Attention(nn.Module):\n",
        "\n",
        "    def __init__(self, config, encoder, cross_attention=False):\n",
        "        super().__init__()\n",
        "        assert config.n_embd % config.n_head == 0\n",
        "        self.n_head = config.n_head\n",
        "        self.n_embd = config.n_embd\n",
        "        self.projection_factor = 2 if cross_attention else 3\n",
        "        self.n_nodes = config.context_length if encoder else config.context_length//2 + config.n_predict\n",
        "        self.top_k_factor = config.top_k_factor\n",
        "\n",
        "        # Layer to generate keys, queries, values (if required) in one pass:\n",
        "        self.project_components = nn.Linear(config.n_embd, self.projection_factor * config.n_embd)\n",
        "        self.output_dropout = nn.Dropout(config.dropout)\n",
        "\n",
        "    def forward(self, x, x_cross=None):\n",
        "        device = x.device\n",
        "        n_graphs, n_nodes, n_embd = x.size()\n",
        "\n",
        "\n",
        "        # Implement cross attention as well as self attention.\n",
        "        if x_cross is None:\n",
        "            queries, keys, values  = self.project_components(x).split(self.n_embd, dim=2)\n",
        "        else:\n",
        "            queries, keys = self.project_components(x_cross).split(self.n_embd, dim=2)\n",
        "\n",
        "            # match up dimensions with some zero padding\n",
        "            pad = torch.zeros([n_graphs, n_nodes-queries.shape[1], n_embd], dtype=torch.float, device=device)\n",
        "            queries = torch.concat([queries, pad], dim=1)\n",
        "            keys = torch.concat([keys, pad], dim=1)\n",
        "            values = x\n",
        "\n",
        "\n",
        "        queries = queries.view(n_graphs, n_nodes, self.n_head, n_embd // self.n_head)\n",
        "        keys = keys.view(n_graphs, n_nodes, self.n_head, n_embd // self.n_head)\n",
        "        values = values.view(n_graphs, n_nodes, self.n_head, n_embd // self.n_head)\n",
        "\n",
        "        # Apply the Wiener–Khinchin theorem to get auto-cov (R) for each embedding dim.\n",
        "        queries_fft = torch.fft.rfft(queries.permute(0, 2, 3, 1).contiguous(), dim=-1)\n",
        "        keys_fft = torch.fft.rfft(keys.permute(0, 2, 3, 1).contiguous(), dim=-1)\n",
        "        power_spectrum = queries_fft * torch.conj(keys_fft)\n",
        "        R = torch.fft.irfft(power_spectrum, n=n_nodes, dim=-1)\n",
        "\n",
        "        # Pick the k larest autocorrelations:\n",
        "        k = int(self.top_k_factor * math.log(n_nodes))\n",
        "        top_R, lags = torch.topk(R, k=k, dim=-1)\n",
        "        top_R = torch.softmax(top_R, dim=-1)\n",
        "\n",
        "        # Roll the values, scale them by the auto_covs, add them together.\n",
        "        # This is'nt nice in terms of kernels, can't use torch.roll as each item in the batch can\n",
        "        # be shifted by different amounts so we need to normalise over\n",
        "\n",
        "        # 1,2,...L for each embedded time series in each head in each batch\n",
        "        ordered_idxs = torch.arange(n_nodes).unsqueeze(0).unsqueeze(0).unsqueeze(0)\\\n",
        "            .repeat(n_graphs, self.n_head, n_embd // self.n_head, 1).to(values.device)\n",
        "\n",
        "        # [a,b,c] --> [a,b,c,a,b,c] for each embedding of the value so that we can do a cyclical shift (perumutaion).\n",
        "        values = values.permute(0, 2, 3, 1).contiguous()\n",
        "        extended_values = values.repeat(1, 1, 1, 2)\n",
        "        summed_permuted_values = torch.zeros_like(values).float()\n",
        "\n",
        "\n",
        "        # lags[..., i] -> Gets the ith best lag for each embedding in each head, in each batch.\n",
        "        # An example for one emedding: say lag = 2\n",
        "        # init_idxs + lags[..., i].unsqueeze(-1) -> [0,1,2...] -> [2,3,4....]\n",
        "\n",
        "        for i in range(k):\n",
        "            permuted_idxs = ordered_idxs + lags[..., i].unsqueeze(-1)\n",
        "            # Collect the right values across the heads and batch.\n",
        "            ith_rolled_values = torch.gather(extended_values, dim=-1, index=permuted_idxs)\n",
        "            # Scale these by the auto-cov and sum up.\n",
        "            summed_permuted_values = summed_permuted_values + ith_rolled_values * (top_R[..., i].unsqueeze(-1))\n",
        "\n",
        "        # Concat along across the heads so in.shape = out.shape and dropout\n",
        "        out = self.output_dropout(summed_permuted_values.permute(0, 3, 1, 2).contiguous().view(n_graphs, n_nodes, n_embd))\n",
        "\n",
        "        return out"
      ]
    },
    {
      "cell_type": "code",
      "execution_count": 7,
      "id": "2510d20e",
      "metadata": {
        "id": "2510d20e"
      },
      "outputs": [],
      "source": [
        "class Multi_Layer_Perceptron(nn.Module):\n",
        "\n",
        "    def __init__(self, d_in, bias, d_out=None):\n",
        "        super().__init__()\n",
        "        if d_out is None: d_out = d_in\n",
        "        # 4X step up as in the paper, and GeLu to stop dead neurons.\n",
        "        self.fc    = nn.Linear(d_in, 4 * d_in, bias=bias)\n",
        "        self.proj  = nn.Linear(4 * d_in, d_out, bias=bias)\n",
        "        self.nonlin = nn.GELU()\n",
        "\n",
        "    def forward(self, x):\n",
        "        x = self.fc(x)\n",
        "        x = self.nonlin(x)\n",
        "        x = self.proj(x)\n",
        "        return x"
      ]
    },
    {
      "cell_type": "code",
      "execution_count": 8,
      "id": "f88e0776",
      "metadata": {
        "id": "f88e0776"
      },
      "outputs": [],
      "source": [
        "class Encoder_Block(nn.Module):\n",
        "\n",
        "    def __init__(self, config):\n",
        "        super().__init__()\n",
        "        self.attn = Auto_Correlation_Attention(config, encoder=True)\n",
        "        self.sd1 = Series_Decomposition(config)\n",
        "        self.mlp = Multi_Layer_Perceptron(d_in=config.n_embd, bias=config.bias)\n",
        "        self.sd2 = Series_Decomposition(config)\n",
        "\n",
        "    def forward(self, x):\n",
        "        x = x + self.attn(x)\n",
        "        # seasonal part goes back in\n",
        "        x, _ = self.sd1(x)\n",
        "        x = x + self.mlp(x)\n",
        "        residual, trend = self.sd2(x)\n",
        "        # feed only the seasonal part into the next encoder in the stack.\n",
        "        return residual"
      ]
    },
    {
      "cell_type": "code",
      "execution_count": 9,
      "id": "a2c2eda1",
      "metadata": {
        "id": "a2c2eda1"
      },
      "outputs": [],
      "source": [
        "\n",
        "\n",
        "\n",
        "class Decoder_Block(nn.Module):\n",
        "\n",
        "    def __init__(self, config):\n",
        "        super().__init__()\n",
        "        self.self_attn = Auto_Correlation_Attention(config, encoder=False)\n",
        "        self.sd1 = Series_Decomposition(config)\n",
        "        self.cross_attn = Auto_Correlation_Attention(config, encoder=False, cross_attention=True)\n",
        "        self.sd2 = Series_Decomposition(config)\n",
        "        self.mlp = Multi_Layer_Perceptron(d_in=config.n_embd, bias=config.bias)\n",
        "        # maybe change thse to MLP\n",
        "        # self.trend_p1 = nn.Linear(config.n_embd, config.c_in, bias=config.bias)\n",
        "        # self.trend_p2 = nn.Linear(config.n_embd, config.c_in, bias=config.bias)\n",
        "        # self.trend_p3 = nn.Linear(config.n_embd, config.c_in, bias=config.bias)\n",
        "        self.trend_p1 = Multi_Layer_Perceptron(d_in=config.n_embd, bias=config.bias, d_out=config.c_in)\n",
        "        self.trend_p2 = Multi_Layer_Perceptron(d_in=config.n_embd, bias=config.bias, d_out=config.c_in)\n",
        "        self.trend_p3 = Multi_Layer_Perceptron(d_in=config.n_embd, bias=config.bias, d_out=config.c_in)\n",
        "        self.sd3 = Series_Decomposition(config)\n",
        "\n",
        "    def forward(self, res, trend, res_cross):\n",
        "        res = res + self.self_attn(res)\n",
        "        res, trend1 = self.sd1(res)\n",
        "        res = res + self.cross_attn(res, res_cross)\n",
        "        res, trend2 = self.sd2(res)\n",
        "        res = res + self.mlp(res)\n",
        "        residual, trend3 = self.sd3(res)\n",
        "\n",
        "        projected_trend = self.trend_p1(trend1) + self.trend_p2(trend2) + self.trend_p3(trend3)\n",
        "        trend = trend + projected_trend\n",
        "\n",
        "        return residual, trend"
      ]
    },
    {
      "cell_type": "code",
      "execution_count": 10,
      "id": "bf10a025",
      "metadata": {
        "id": "bf10a025"
      },
      "outputs": [],
      "source": [
        "class TTT(nn.Module):\n",
        "\n",
        "    def __init__(self, config):\n",
        "        super().__init__()\n",
        "        assert config.context_length is not None\n",
        "        self.config = config\n",
        "\n",
        "        self.transformer = nn.ModuleDict(dict(\n",
        "            sd = Series_Decomposition(config),\n",
        "            enc_emb = TS_Embedding(config, encoder=True),\n",
        "            dec_emb = TS_Embedding(config, encoder=False),\n",
        "            encoder_stack = nn.ModuleList([Encoder_Block(config) for _ in range(config.n_encoders)]),\n",
        "            decoder_stack = nn.ModuleList([Decoder_Block(config) for _ in range(config.n_decoders)])))\n",
        "\n",
        "\n",
        "        self.decoder_r_proj = nn.Linear(config.n_embd, config.c_in, bias=config.bias)\n",
        "        self.out_proj = nn.Linear(config.c_in, 1, bias=config.bias)\n",
        "        # Print the number of parameters\n",
        "        print(\"Number of parameters: %d\" % (sum(p.nelement() for p in self.parameters()),))\n",
        "\n",
        "    def forward(self, x, targets=None):\n",
        "        device = x.device\n",
        "        n_graphs, n_nodes, c_in = x.size()\n",
        "        assert n_nodes <= self.config.context_length, f\"Cannot forward sequence {seq} of length {n_nodes} as it exceeds the maximum context legnth {self.config.context_length}.\"\n",
        "\n",
        "\n",
        "        # encoder\n",
        "        temp_features = x[:,:,4]\n",
        "        x = x[:,:,4:]\n",
        "        x_0_en = self.transformer.enc_emb(x, temp_features)\n",
        "\n",
        "        x_enc = x[:,n_nodes//2:,:]\n",
        "        x_en_r, x_en_t = self.transformer.sd(x_enc)\n",
        "        x_0 = torch.zeros([n_graphs, self.config.n_predict, c_in], device=device)\n",
        "        x_mean = torch.mean(x_enc, dim=1).unsqueeze(1).repeat(1, self.config.n_predict, 1)\n",
        "\n",
        "        for encoder_block in self.transformer.encoder_stack:\n",
        "            x_0_en = encoder_block(x_0_en)\n",
        "        encoder_out = x_0_en\n",
        "\n",
        "        # decoder\n",
        "        x_de_r = torch.concat((x_en_r, x_0), dim=1)\n",
        "        x_de_t = torch.concat((x_en_t, x_mean), dim=1)\n",
        "\n",
        "        # this embedding needs to be changed to include temporal embeddings of the zeros. +1 % frequency of feature so it loops around ??\n",
        "        x_0_de = self.transformer.dec_emb(x_de_r)\n",
        "\n",
        "        for decoder_block in self.transformer.decoder_stack:\n",
        "            x_0_de, x_de_t = decoder_block(x_0_de, x_de_t, encoder_out)\n",
        "\n",
        "        x_de_res_pred = self.decoder_r_proj(x_0_de)\n",
        "        comb = x_de_res_pred + x_de_t\n",
        "\n",
        "        pred = self.out_proj(comb[:,n_nodes//2:,:])\n",
        "\n",
        "        return pred\n",
        "\n"
      ]
    },
    {
      "cell_type": "code",
      "execution_count": 11,
      "id": "e46f7129",
      "metadata": {
        "id": "e46f7129"
      },
      "outputs": [],
      "source": [
        "@dataclass\n",
        "class GPTConfig:\n",
        "    # Default GPT-2 hyperparameters from the paper\n",
        "    context_length: int = 96\n",
        "    c_in: int = 1 # univariate TS\n",
        "    top_k_factor: int = 1 # Paper: \"we set c to the range of 1 to 3.\"\n",
        "    MA_window: int = 25 # From paper\n",
        "    n_encoders: int = 2\n",
        "    n_decoders: int = 1\n",
        "    n_predict: int = 96\n",
        "    n_head: int = 8\n",
        "    n_embd: int = 512\n",
        "    dropout: float = 0.1\n",
        "    bias: bool = False"
      ]
    },
    {
      "cell_type": "code",
      "execution_count": 12,
      "id": "bf6845a6",
      "metadata": {
        "id": "bf6845a6"
      },
      "outputs": [],
      "source": [
        "\n",
        "class Trainer:\n",
        "    def __init__(self, ts_handler, save_path, config=None, load_path=None, eval_interval=25):\n",
        "        self.device = 'cuda' if torch.cuda.is_available() else 'cpu'\n",
        "        self.load_checkpoint(load_path)\n",
        "        self.ts_handler = ts_handler\n",
        "        self.config = config\n",
        "        self.save_path = save_path\n",
        "        self.eval_interval = eval_interval\n",
        "\n",
        "    def load_checkpoint(self, path):\n",
        "        if path is not None:\n",
        "            # Load the saved model, optimiser state, and losses from checkpoint\n",
        "            checkpoint = torch.load(path)\n",
        "            self.config = checkpoint['config']\n",
        "\n",
        "            self.model = TTT(config)\n",
        "            self.model.load_state_dict(checkpoint['model_state_dict'])\n",
        "            self.model.to(self.device)\n",
        "\n",
        "            self.optimizer = torch.optim.AdamW(self.model.parameters(), lr=1e-4, weight_decay=1e-1)\n",
        "            self.optimizer.load_state_dict(checkpoint['optimizer_state_dict'])\n",
        "\n",
        "            self.train_losses = checkpoint['train_losses']\n",
        "            self.val_losses = checkpoint['val_losses']\n",
        "            self.plot_loss(smoothing_window=10)\n",
        "\n",
        "            checkpoint = None # free up memory\n",
        "\n",
        "        else:\n",
        "            # Start from scratch\n",
        "            assert config is not None, \"You must provide a configuration for the GPT if training from scratch.\"\n",
        "            self.model = TTT(config)\n",
        "            self.model.to(self.device)\n",
        "            self.optimizer = torch.optim.AdamW(self.model.parameters(), lr=1e-4, weight_decay=1e-1)\n",
        "            self.train_losses = []\n",
        "            self.val_losses = []\n",
        "\n",
        "    def train(self, n_epochs, bs, training_data_frac=1):\n",
        "        self.model.train()\n",
        "        train_loader = DataLoader(self.ts_handler.train_dataset, batch_size=bs, shuffle=True)\n",
        "        n_batches = int(len(train_loader) * training_data_frac)\n",
        "        print(f\"Training on {n_batches}/{len(train_loader)} batches per epoch.\")\n",
        "\n",
        "        for epoch in range(n_epochs):\n",
        "                for batch_idx, (X_batch, y_batch) in enumerate(train_loader):\n",
        "                    if batch_idx >= n_batches:\n",
        "                        break\n",
        "                    X_batch, y_batch = X_batch.to(self.device), y_batch.to(self.device)\n",
        "                    preds = self.model(X_batch)\n",
        "                    loss = F.mse_loss(preds.view(-1), y_batch.view(-1))\n",
        "                    self.optimizer.zero_grad(set_to_none=True)\n",
        "                    loss.backward()\n",
        "                    self.optimizer.step()\n",
        "                    if batch_idx % self.eval_interval == 0:\n",
        "                        losses = self.estimate_loss()\n",
        "                        print(f\"Epoch: {epoch}, Batch: {batch_idx}, Train Loss: {losses['train']:.3f}, Val Loss: {losses['val']:.3f}\")\n",
        "\n",
        "        self.plot_loss(smoothing_window=5)\n",
        "        self.save_checkpoint()\n",
        "\n",
        "    @torch.no_grad()\n",
        "    def estimate_loss(self, n_batches=10):\n",
        "        out = {}\n",
        "        self.model.eval()\n",
        "        for split, data in {'train': self.ts_handler.train_dataset, 'val': self.ts_handler.val_dataset}.items():\n",
        "          loader = DataLoader(data, batch_size=32, shuffle=True)\n",
        "          losses = torch.zeros(n_batches)\n",
        "          for batch_idx, (X_batch, y_batch) in enumerate(loader):\n",
        "              if batch_idx >= n_batches:\n",
        "                  break\n",
        "              X_batch, y_batch = X_batch.to(self.device), y_batch.to(self.device)\n",
        "              preds = self.model(X_batch, y_batch)\n",
        "              loss = F.mse_loss(preds.view(-1), y_batch.view(-1))\n",
        "              losses[batch_idx] = loss.item()\n",
        "\n",
        "          out[split] = losses.mean()\n",
        "\n",
        "        self.train_losses.append(out['train'])\n",
        "        self.val_losses.append(out['val'])\n",
        "\n",
        "        self.model.train()\n",
        "        return out\n",
        "\n",
        "\n",
        "\n",
        "    def generate_ts(self, seq, n_steps):\n",
        "\n",
        "        preds = torch.empty((n_steps, seq.shape[-1]))\n",
        "        seq = seq.unsqueeze(0)\n",
        "\n",
        "        self.model.eval()\n",
        "        for i in range(n_steps):\n",
        "            pred = self.model(seq)\n",
        "            preds[i] = pred.item()\n",
        "            seq = torch.concat((seq[:,1:,:], pred.unsqueeze(0)), dim=1)\n",
        "\n",
        "        return preds\n",
        "\n",
        "    def save_checkpoint(self):\n",
        "        self.model.eval()\n",
        "        torch.save({'model_state_dict': self.model.state_dict(),\n",
        "                    'config': self.config,\n",
        "                    'optimizer_state_dict': self.optimizer.state_dict(),\n",
        "                    'train_losses': self.train_losses,\n",
        "                    'val_losses': self.val_losses}, self.save_path)\n",
        "\n",
        "    @staticmethod\n",
        "    def moving_average(data, window_size):\n",
        "        series = pd.Series(data)\n",
        "        moving_avg = series.rolling(window=window_size).mean()\n",
        "        return moving_avg.tolist()\n",
        "\n",
        "    def plot_loss(self, smoothing_window):\n",
        "        fig, ax = plt.subplots(nrows=1, ncols=2)\n",
        "        for i in range(2):\n",
        "            ax[i].plot(self.moving_average(self.train_losses, smoothing_window), label='train')\n",
        "            ax[i].plot(self.moving_average(self.val_losses, smoothing_window), label='val')\n",
        "            ax[i].legend()\n",
        "        ax[1].set_yscale('log')\n",
        "        ax[0].set_ylabel(\"Smoothed loss\")\n",
        "        ax[1].set_ylabel(\"Smoothed Logged loss\")\n",
        "\n",
        "    def plot_example(self, idx, split='test'):\n",
        "      self.model.eval()\n",
        "      if split == 'test':\n",
        "        x = self.ts_handler.X_test[idx]\n",
        "        y = self.ts_handler.y_test[idx]\n",
        "      elif split == 'val':\n",
        "        x = self.ts_handler.X_val[idx]\n",
        "        y = self.ts_handler.y_val[idx]\n",
        "      else:\n",
        "        x = self.ts_handler.X_train[idx]\n",
        "        y = self.ts_handler.y_train[idx]\n",
        "      x = x.unsqueeze(dim=0).to(self.device)\n",
        "      y = y.squeeze(-1)\n",
        "\n",
        "      pred = model_trainer.model(x).squeeze(0).squeeze(-1).cpu().detach().numpy()\n",
        "\n",
        "      fig, ax = plt.subplots()\n",
        "      t1 = np.arange(self.config.context_length)\n",
        "      t2 = np.arange(self.config.context_length, self.config.context_length + config.n_predict)\n",
        "      input = x.squeeze(dim=0)[:,-1].cpu().numpy()\n",
        "      print(f\"{x.shape=}\")\n",
        "      print(f\"{input.shape=}\")\n",
        "      ax.plot(t1, input, label=\"input\")\n",
        "      ax.plot(t2, pred, label=\"generated\")\n",
        "      ax.plot(t2, y, label=\"actual\")\n",
        "      ax.legend()\n",
        "\n"
      ]
    },
    {
      "cell_type": "markdown",
      "id": "821ffdb0",
      "metadata": {
        "id": "821ffdb0"
      },
      "source": [
        "# Training"
      ]
    },
    {
      "cell_type": "code",
      "execution_count": 13,
      "id": "7e576745",
      "metadata": {
        "id": "7e576745"
      },
      "outputs": [],
      "source": [
        "url = \"https://github.com/zhouhaoyi/ETDataset/raw/main/ETT-small/ETTh1.csv\"\n",
        "# url = \"https://raw.githubusercontent.com/AileenNielsen/TimeSeriesAnalysisWithPython/master/data/AirPassengers.csv\""
      ]
    },
    {
      "cell_type": "code",
      "execution_count": 14,
      "id": "814fc349",
      "metadata": {
        "id": "814fc349"
      },
      "outputs": [],
      "source": [
        "df = pd.read_csv(url, parse_dates=[\"date\"])"
      ]
    },
    {
      "cell_type": "code",
      "source": [
        "df['month'] = df['date'].dt.month\n",
        "df['day'] = df['date'].dt.day\n",
        "df['day_of_week'] = df['date'].dt.day_of_week\n",
        "df['hour'] = df['date'].dt.hour\n",
        "y_column = df.pop('OT')\n",
        "df.insert(len(df.columns), 'OT', y_column)\n",
        "df = df.set_index('date')\n",
        "time_features = ['month', 'day', 'day_of_week', 'hour']\n",
        "for i, name in enumerate(time_features):\n",
        "  col = df.pop(name)\n",
        "  df.insert(i, name, col)\n",
        "df.head()"
      ],
      "metadata": {
        "colab": {
          "base_uri": "https://localhost:8080/",
          "height": 237
        },
        "id": "44ji307YA8dE",
        "outputId": "8b08efb8-e8ba-4d02-a45f-cbb0ac468d61"
      },
      "id": "44ji307YA8dE",
      "execution_count": 15,
      "outputs": [
        {
          "output_type": "execute_result",
          "data": {
            "text/plain": [
              "                     month  day  day_of_week  hour   HUFL   HULL   MUFL  \\\n",
              "date                                                                      \n",
              "2016-07-01 00:00:00      7    1            4     0  5.827  2.009  1.599   \n",
              "2016-07-01 01:00:00      7    1            4     1  5.693  2.076  1.492   \n",
              "2016-07-01 02:00:00      7    1            4     2  5.157  1.741  1.279   \n",
              "2016-07-01 03:00:00      7    1            4     3  5.090  1.942  1.279   \n",
              "2016-07-01 04:00:00      7    1            4     4  5.358  1.942  1.492   \n",
              "\n",
              "                      MULL   LUFL   LULL         OT  \n",
              "date                                                 \n",
              "2016-07-01 00:00:00  0.462  4.203  1.340  30.531000  \n",
              "2016-07-01 01:00:00  0.426  4.142  1.371  27.787001  \n",
              "2016-07-01 02:00:00  0.355  3.777  1.218  27.787001  \n",
              "2016-07-01 03:00:00  0.391  3.807  1.279  25.044001  \n",
              "2016-07-01 04:00:00  0.462  3.868  1.279  21.948000  "
            ],
            "text/html": [
              "\n",
              "  <div id=\"df-32ea9470-2737-490d-bbfd-55ec4c076db0\">\n",
              "    <div class=\"colab-df-container\">\n",
              "      <div>\n",
              "<style scoped>\n",
              "    .dataframe tbody tr th:only-of-type {\n",
              "        vertical-align: middle;\n",
              "    }\n",
              "\n",
              "    .dataframe tbody tr th {\n",
              "        vertical-align: top;\n",
              "    }\n",
              "\n",
              "    .dataframe thead th {\n",
              "        text-align: right;\n",
              "    }\n",
              "</style>\n",
              "<table border=\"1\" class=\"dataframe\">\n",
              "  <thead>\n",
              "    <tr style=\"text-align: right;\">\n",
              "      <th></th>\n",
              "      <th>month</th>\n",
              "      <th>day</th>\n",
              "      <th>day_of_week</th>\n",
              "      <th>hour</th>\n",
              "      <th>HUFL</th>\n",
              "      <th>HULL</th>\n",
              "      <th>MUFL</th>\n",
              "      <th>MULL</th>\n",
              "      <th>LUFL</th>\n",
              "      <th>LULL</th>\n",
              "      <th>OT</th>\n",
              "    </tr>\n",
              "    <tr>\n",
              "      <th>date</th>\n",
              "      <th></th>\n",
              "      <th></th>\n",
              "      <th></th>\n",
              "      <th></th>\n",
              "      <th></th>\n",
              "      <th></th>\n",
              "      <th></th>\n",
              "      <th></th>\n",
              "      <th></th>\n",
              "      <th></th>\n",
              "      <th></th>\n",
              "    </tr>\n",
              "  </thead>\n",
              "  <tbody>\n",
              "    <tr>\n",
              "      <th>2016-07-01 00:00:00</th>\n",
              "      <td>7</td>\n",
              "      <td>1</td>\n",
              "      <td>4</td>\n",
              "      <td>0</td>\n",
              "      <td>5.827</td>\n",
              "      <td>2.009</td>\n",
              "      <td>1.599</td>\n",
              "      <td>0.462</td>\n",
              "      <td>4.203</td>\n",
              "      <td>1.340</td>\n",
              "      <td>30.531000</td>\n",
              "    </tr>\n",
              "    <tr>\n",
              "      <th>2016-07-01 01:00:00</th>\n",
              "      <td>7</td>\n",
              "      <td>1</td>\n",
              "      <td>4</td>\n",
              "      <td>1</td>\n",
              "      <td>5.693</td>\n",
              "      <td>2.076</td>\n",
              "      <td>1.492</td>\n",
              "      <td>0.426</td>\n",
              "      <td>4.142</td>\n",
              "      <td>1.371</td>\n",
              "      <td>27.787001</td>\n",
              "    </tr>\n",
              "    <tr>\n",
              "      <th>2016-07-01 02:00:00</th>\n",
              "      <td>7</td>\n",
              "      <td>1</td>\n",
              "      <td>4</td>\n",
              "      <td>2</td>\n",
              "      <td>5.157</td>\n",
              "      <td>1.741</td>\n",
              "      <td>1.279</td>\n",
              "      <td>0.355</td>\n",
              "      <td>3.777</td>\n",
              "      <td>1.218</td>\n",
              "      <td>27.787001</td>\n",
              "    </tr>\n",
              "    <tr>\n",
              "      <th>2016-07-01 03:00:00</th>\n",
              "      <td>7</td>\n",
              "      <td>1</td>\n",
              "      <td>4</td>\n",
              "      <td>3</td>\n",
              "      <td>5.090</td>\n",
              "      <td>1.942</td>\n",
              "      <td>1.279</td>\n",
              "      <td>0.391</td>\n",
              "      <td>3.807</td>\n",
              "      <td>1.279</td>\n",
              "      <td>25.044001</td>\n",
              "    </tr>\n",
              "    <tr>\n",
              "      <th>2016-07-01 04:00:00</th>\n",
              "      <td>7</td>\n",
              "      <td>1</td>\n",
              "      <td>4</td>\n",
              "      <td>4</td>\n",
              "      <td>5.358</td>\n",
              "      <td>1.942</td>\n",
              "      <td>1.492</td>\n",
              "      <td>0.462</td>\n",
              "      <td>3.868</td>\n",
              "      <td>1.279</td>\n",
              "      <td>21.948000</td>\n",
              "    </tr>\n",
              "  </tbody>\n",
              "</table>\n",
              "</div>\n",
              "      <button class=\"colab-df-convert\" onclick=\"convertToInteractive('df-32ea9470-2737-490d-bbfd-55ec4c076db0')\"\n",
              "              title=\"Convert this dataframe to an interactive table.\"\n",
              "              style=\"display:none;\">\n",
              "        \n",
              "  <svg xmlns=\"http://www.w3.org/2000/svg\" height=\"24px\"viewBox=\"0 0 24 24\"\n",
              "       width=\"24px\">\n",
              "    <path d=\"M0 0h24v24H0V0z\" fill=\"none\"/>\n",
              "    <path d=\"M18.56 5.44l.94 2.06.94-2.06 2.06-.94-2.06-.94-.94-2.06-.94 2.06-2.06.94zm-11 1L8.5 8.5l.94-2.06 2.06-.94-2.06-.94L8.5 2.5l-.94 2.06-2.06.94zm10 10l.94 2.06.94-2.06 2.06-.94-2.06-.94-.94-2.06-.94 2.06-2.06.94z\"/><path d=\"M17.41 7.96l-1.37-1.37c-.4-.4-.92-.59-1.43-.59-.52 0-1.04.2-1.43.59L10.3 9.45l-7.72 7.72c-.78.78-.78 2.05 0 2.83L4 21.41c.39.39.9.59 1.41.59.51 0 1.02-.2 1.41-.59l7.78-7.78 2.81-2.81c.8-.78.8-2.07 0-2.86zM5.41 20L4 18.59l7.72-7.72 1.47 1.35L5.41 20z\"/>\n",
              "  </svg>\n",
              "      </button>\n",
              "      \n",
              "  <style>\n",
              "    .colab-df-container {\n",
              "      display:flex;\n",
              "      flex-wrap:wrap;\n",
              "      gap: 12px;\n",
              "    }\n",
              "\n",
              "    .colab-df-convert {\n",
              "      background-color: #E8F0FE;\n",
              "      border: none;\n",
              "      border-radius: 50%;\n",
              "      cursor: pointer;\n",
              "      display: none;\n",
              "      fill: #1967D2;\n",
              "      height: 32px;\n",
              "      padding: 0 0 0 0;\n",
              "      width: 32px;\n",
              "    }\n",
              "\n",
              "    .colab-df-convert:hover {\n",
              "      background-color: #E2EBFA;\n",
              "      box-shadow: 0px 1px 2px rgba(60, 64, 67, 0.3), 0px 1px 3px 1px rgba(60, 64, 67, 0.15);\n",
              "      fill: #174EA6;\n",
              "    }\n",
              "\n",
              "    [theme=dark] .colab-df-convert {\n",
              "      background-color: #3B4455;\n",
              "      fill: #D2E3FC;\n",
              "    }\n",
              "\n",
              "    [theme=dark] .colab-df-convert:hover {\n",
              "      background-color: #434B5C;\n",
              "      box-shadow: 0px 1px 3px 1px rgba(0, 0, 0, 0.15);\n",
              "      filter: drop-shadow(0px 1px 2px rgba(0, 0, 0, 0.3));\n",
              "      fill: #FFFFFF;\n",
              "    }\n",
              "  </style>\n",
              "\n",
              "      <script>\n",
              "        const buttonEl =\n",
              "          document.querySelector('#df-32ea9470-2737-490d-bbfd-55ec4c076db0 button.colab-df-convert');\n",
              "        buttonEl.style.display =\n",
              "          google.colab.kernel.accessAllowed ? 'block' : 'none';\n",
              "\n",
              "        async function convertToInteractive(key) {\n",
              "          const element = document.querySelector('#df-32ea9470-2737-490d-bbfd-55ec4c076db0');\n",
              "          const dataTable =\n",
              "            await google.colab.kernel.invokeFunction('convertToInteractive',\n",
              "                                                     [key], {});\n",
              "          if (!dataTable) return;\n",
              "\n",
              "          const docLinkHtml = 'Like what you see? Visit the ' +\n",
              "            '<a target=\"_blank\" href=https://colab.research.google.com/notebooks/data_table.ipynb>data table notebook</a>'\n",
              "            + ' to learn more about interactive tables.';\n",
              "          element.innerHTML = '';\n",
              "          dataTable['output_type'] = 'display_data';\n",
              "          await google.colab.output.renderOutput(dataTable, element);\n",
              "          const docLink = document.createElement('div');\n",
              "          docLink.innerHTML = docLinkHtml;\n",
              "          element.appendChild(docLink);\n",
              "        }\n",
              "      </script>\n",
              "    </div>\n",
              "  </div>\n",
              "  "
            ]
          },
          "metadata": {},
          "execution_count": 15
        }
      ]
    },
    {
      "cell_type": "code",
      "execution_count": 19,
      "id": "6b669eaa",
      "metadata": {
        "id": "6b669eaa",
        "outputId": "d9ba7ffb-b185-4772-a790-6c04473bc34e",
        "colab": {
          "base_uri": "https://localhost:8080/"
        }
      },
      "outputs": [
        {
          "output_type": "stream",
          "name": "stdout",
          "text": [
            "Number of training, val, and testing examples: 10260, 3292, 3292\n"
          ]
        }
      ],
      "source": [
        "context_length = 96\n",
        "n_predict = 96\n",
        "n_temp_features = 4\n",
        "ts_handler = TS_Handler(df, context_length, n_predict)"
      ]
    },
    {
      "cell_type": "code",
      "execution_count": 20,
      "id": "a77089df",
      "metadata": {
        "id": "a77089df",
        "outputId": "24a05e39-f648-43ff-9885-6aebfc19c7e7",
        "colab": {
          "base_uri": "https://localhost:8080/"
        }
      },
      "outputs": [
        {
          "output_type": "stream",
          "name": "stdout",
          "text": [
            "Number of parameters: 12471303\n"
          ]
        }
      ],
      "source": [
        "# Train setup\n",
        "save_path = 'Ts_GPT.pth'\n",
        "# load_path = 'Ts_GPT.pth'\n",
        "load_path = None\n",
        "\n",
        "config = GPTConfig(\n",
        "    context_length = context_length,\n",
        "    c_in = ts_handler.ts_d - n_temp_features,\n",
        "    top_k_factor = 1,\n",
        "    MA_window = 25,\n",
        "    n_encoders = 2,\n",
        "    n_decoders = 1,\n",
        "    n_predict = n_predict,\n",
        "    n_head = 8,\n",
        "    n_embd = 512,\n",
        "    dropout = 0.1,\n",
        "    bias = False)\n",
        "\n",
        "model_trainer = Trainer(ts_handler, save_path, config, load_path)\n"
      ]
    },
    {
      "cell_type": "code",
      "source": [
        "model_trainer.model(ts_handler.X_train[0].unsqueeze(0).to('cuda'))"
      ],
      "metadata": {
        "colab": {
          "base_uri": "https://localhost:8080/",
          "height": 554
        },
        "id": "xTIFVJlxGq2K",
        "outputId": "f39bcc7d-2ee8-45c5-efa8-0c3df5b907ff"
      },
      "id": "xTIFVJlxGq2K",
      "execution_count": 21,
      "outputs": [
        {
          "output_type": "stream",
          "name": "stdout",
          "text": [
            "x=tensor([[ 5.8270,  5.6930,  5.1570,  5.0900,  5.3580,  5.6260,  7.1670,  7.4350,\n",
            "          5.5590,  4.5550,  4.9570,  5.7600,  4.6890,  4.6890,  5.0900,  5.0900,\n",
            "          4.2200,  4.7560,  5.6260,  5.4920,  5.3580,  5.0900,  4.8230,  4.6220,\n",
            "          5.2240,  5.1570,  5.1570,  5.1570,  4.5550,  5.4250,  5.4920,  5.6260,\n",
            "          5.5590,  5.2240,  9.9130, 11.7880,  9.6450, 10.3820,  8.7740, 10.4490,\n",
            "          9.8460,  9.9130, 10.6500, 10.1140,  9.9800,  9.3100,  9.4440,  9.4440,\n",
            "         10.3820,  9.7790, 10.3820,  9.7790, 10.7170, 10.3150, 12.5920, 11.1190,\n",
            "         10.6500, 10.0470, 11.7210, 12.1230,  9.9800,  9.2430, 10.1810,  9.6450,\n",
            "          9.7790, 11.1190, 11.0520, 10.7840, 11.1860, 10.4490,  9.5780,  9.3100,\n",
            "          9.9130,  8.9750,  8.6400,  9.1760,  9.1090,  9.8460, 11.5880, 11.7880,\n",
            "         10.5830, 11.5880, 11.9220, 12.3240, 10.3820, 10.0470, 10.5160, 10.7170,\n",
            "          9.9800, 11.3200, 11.3870,  9.3770, 10.1140, 10.3820,  9.6450, 12.7260]],\n",
            "       device='cuda:0')\n",
            "x.long=<built-in method long of Tensor object at 0x7f3650940900>\n"
          ]
        },
        {
          "output_type": "error",
          "ename": "IndexError",
          "evalue": "ignored",
          "traceback": [
            "\u001b[0;31m---------------------------------------------------------------------------\u001b[0m",
            "\u001b[0;31mIndexError\u001b[0m                                Traceback (most recent call last)",
            "\u001b[0;32m<ipython-input-21-aa0893331e43>\u001b[0m in \u001b[0;36m<cell line: 1>\u001b[0;34m()\u001b[0m\n\u001b[0;32m----> 1\u001b[0;31m \u001b[0mmodel_trainer\u001b[0m\u001b[0;34m.\u001b[0m\u001b[0mmodel\u001b[0m\u001b[0;34m(\u001b[0m\u001b[0mts_handler\u001b[0m\u001b[0;34m.\u001b[0m\u001b[0mX_train\u001b[0m\u001b[0;34m[\u001b[0m\u001b[0;36m0\u001b[0m\u001b[0;34m]\u001b[0m\u001b[0;34m.\u001b[0m\u001b[0munsqueeze\u001b[0m\u001b[0;34m(\u001b[0m\u001b[0;36m0\u001b[0m\u001b[0;34m)\u001b[0m\u001b[0;34m.\u001b[0m\u001b[0mto\u001b[0m\u001b[0;34m(\u001b[0m\u001b[0;34m'cuda'\u001b[0m\u001b[0;34m)\u001b[0m\u001b[0;34m)\u001b[0m\u001b[0;34m\u001b[0m\u001b[0;34m\u001b[0m\u001b[0m\n\u001b[0m",
            "\u001b[0;32m/usr/local/lib/python3.10/dist-packages/torch/nn/modules/module.py\u001b[0m in \u001b[0;36m_call_impl\u001b[0;34m(self, *args, **kwargs)\u001b[0m\n\u001b[1;32m   1499\u001b[0m                 \u001b[0;32mor\u001b[0m \u001b[0m_global_backward_pre_hooks\u001b[0m \u001b[0;32mor\u001b[0m \u001b[0m_global_backward_hooks\u001b[0m\u001b[0;34m\u001b[0m\u001b[0;34m\u001b[0m\u001b[0m\n\u001b[1;32m   1500\u001b[0m                 or _global_forward_hooks or _global_forward_pre_hooks):\n\u001b[0;32m-> 1501\u001b[0;31m             \u001b[0;32mreturn\u001b[0m \u001b[0mforward_call\u001b[0m\u001b[0;34m(\u001b[0m\u001b[0;34m*\u001b[0m\u001b[0margs\u001b[0m\u001b[0;34m,\u001b[0m \u001b[0;34m**\u001b[0m\u001b[0mkwargs\u001b[0m\u001b[0;34m)\u001b[0m\u001b[0;34m\u001b[0m\u001b[0;34m\u001b[0m\u001b[0m\n\u001b[0m\u001b[1;32m   1502\u001b[0m         \u001b[0;31m# Do not call functions when jit is used\u001b[0m\u001b[0;34m\u001b[0m\u001b[0;34m\u001b[0m\u001b[0m\n\u001b[1;32m   1503\u001b[0m         \u001b[0mfull_backward_hooks\u001b[0m\u001b[0;34m,\u001b[0m \u001b[0mnon_full_backward_hooks\u001b[0m \u001b[0;34m=\u001b[0m \u001b[0;34m[\u001b[0m\u001b[0;34m]\u001b[0m\u001b[0;34m,\u001b[0m \u001b[0;34m[\u001b[0m\u001b[0;34m]\u001b[0m\u001b[0;34m\u001b[0m\u001b[0;34m\u001b[0m\u001b[0m\n",
            "\u001b[0;32m<ipython-input-10-6afecfe750c8>\u001b[0m in \u001b[0;36mforward\u001b[0;34m(self, x, targets)\u001b[0m\n\u001b[1;32m     28\u001b[0m         \u001b[0mtemp_features\u001b[0m \u001b[0;34m=\u001b[0m \u001b[0mx\u001b[0m\u001b[0;34m[\u001b[0m\u001b[0;34m:\u001b[0m\u001b[0;34m,\u001b[0m\u001b[0;34m:\u001b[0m\u001b[0;34m,\u001b[0m\u001b[0;36m4\u001b[0m\u001b[0;34m]\u001b[0m\u001b[0;34m\u001b[0m\u001b[0;34m\u001b[0m\u001b[0m\n\u001b[1;32m     29\u001b[0m         \u001b[0mx\u001b[0m \u001b[0;34m=\u001b[0m \u001b[0mx\u001b[0m\u001b[0;34m[\u001b[0m\u001b[0;34m:\u001b[0m\u001b[0;34m,\u001b[0m\u001b[0;34m:\u001b[0m\u001b[0;34m,\u001b[0m\u001b[0;36m4\u001b[0m\u001b[0;34m:\u001b[0m\u001b[0;34m]\u001b[0m\u001b[0;34m\u001b[0m\u001b[0;34m\u001b[0m\u001b[0m\n\u001b[0;32m---> 30\u001b[0;31m         \u001b[0mx_0_en\u001b[0m \u001b[0;34m=\u001b[0m \u001b[0mself\u001b[0m\u001b[0;34m.\u001b[0m\u001b[0mtransformer\u001b[0m\u001b[0;34m.\u001b[0m\u001b[0menc_emb\u001b[0m\u001b[0;34m(\u001b[0m\u001b[0mx\u001b[0m\u001b[0;34m,\u001b[0m \u001b[0mtemp_features\u001b[0m\u001b[0;34m)\u001b[0m\u001b[0;34m\u001b[0m\u001b[0;34m\u001b[0m\u001b[0m\n\u001b[0m\u001b[1;32m     31\u001b[0m \u001b[0;34m\u001b[0m\u001b[0m\n\u001b[1;32m     32\u001b[0m         \u001b[0mx_enc\u001b[0m \u001b[0;34m=\u001b[0m \u001b[0mx\u001b[0m\u001b[0;34m[\u001b[0m\u001b[0;34m:\u001b[0m\u001b[0;34m,\u001b[0m\u001b[0mn_nodes\u001b[0m\u001b[0;34m//\u001b[0m\u001b[0;36m2\u001b[0m\u001b[0;34m:\u001b[0m\u001b[0;34m,\u001b[0m\u001b[0;34m:\u001b[0m\u001b[0;34m]\u001b[0m\u001b[0;34m\u001b[0m\u001b[0;34m\u001b[0m\u001b[0m\n",
            "\u001b[0;32m/usr/local/lib/python3.10/dist-packages/torch/nn/modules/module.py\u001b[0m in \u001b[0;36m_call_impl\u001b[0;34m(self, *args, **kwargs)\u001b[0m\n\u001b[1;32m   1499\u001b[0m                 \u001b[0;32mor\u001b[0m \u001b[0m_global_backward_pre_hooks\u001b[0m \u001b[0;32mor\u001b[0m \u001b[0m_global_backward_hooks\u001b[0m\u001b[0;34m\u001b[0m\u001b[0;34m\u001b[0m\u001b[0m\n\u001b[1;32m   1500\u001b[0m                 or _global_forward_hooks or _global_forward_pre_hooks):\n\u001b[0;32m-> 1501\u001b[0;31m             \u001b[0;32mreturn\u001b[0m \u001b[0mforward_call\u001b[0m\u001b[0;34m(\u001b[0m\u001b[0;34m*\u001b[0m\u001b[0margs\u001b[0m\u001b[0;34m,\u001b[0m \u001b[0;34m**\u001b[0m\u001b[0mkwargs\u001b[0m\u001b[0;34m)\u001b[0m\u001b[0;34m\u001b[0m\u001b[0;34m\u001b[0m\u001b[0m\n\u001b[0m\u001b[1;32m   1502\u001b[0m         \u001b[0;31m# Do not call functions when jit is used\u001b[0m\u001b[0;34m\u001b[0m\u001b[0;34m\u001b[0m\u001b[0m\n\u001b[1;32m   1503\u001b[0m         \u001b[0mfull_backward_hooks\u001b[0m\u001b[0;34m,\u001b[0m \u001b[0mnon_full_backward_hooks\u001b[0m \u001b[0;34m=\u001b[0m \u001b[0;34m[\u001b[0m\u001b[0;34m]\u001b[0m\u001b[0;34m,\u001b[0m \u001b[0;34m[\u001b[0m\u001b[0;34m]\u001b[0m\u001b[0;34m\u001b[0m\u001b[0;34m\u001b[0m\u001b[0m\n",
            "\u001b[0;32m<ipython-input-4-27dba7b3031a>\u001b[0m in \u001b[0;36mforward\u001b[0;34m(self, x, temp_features)\u001b[0m\n\u001b[1;32m     47\u001b[0m \u001b[0;34m\u001b[0m\u001b[0m\n\u001b[1;32m     48\u001b[0m         \u001b[0mtoken_embd\u001b[0m \u001b[0;34m=\u001b[0m \u001b[0mself\u001b[0m\u001b[0;34m.\u001b[0m\u001b[0mtoken_embd\u001b[0m\u001b[0;34m(\u001b[0m\u001b[0mx\u001b[0m\u001b[0;34m.\u001b[0m\u001b[0mtranspose\u001b[0m\u001b[0;34m(\u001b[0m\u001b[0;36m1\u001b[0m\u001b[0;34m,\u001b[0m \u001b[0;36m2\u001b[0m\u001b[0;34m)\u001b[0m\u001b[0;34m)\u001b[0m\u001b[0;34m.\u001b[0m\u001b[0mtranspose\u001b[0m\u001b[0;34m(\u001b[0m\u001b[0;36m1\u001b[0m\u001b[0;34m,\u001b[0m \u001b[0;36m2\u001b[0m\u001b[0;34m)\u001b[0m\u001b[0;34m\u001b[0m\u001b[0;34m\u001b[0m\u001b[0m\n\u001b[0;32m---> 49\u001b[0;31m         \u001b[0mtemporal_embd\u001b[0m \u001b[0;34m=\u001b[0m \u001b[0mself\u001b[0m\u001b[0;34m.\u001b[0m\u001b[0mtemporal_embd\u001b[0m\u001b[0;34m(\u001b[0m\u001b[0mtemp_features\u001b[0m\u001b[0;34m)\u001b[0m\u001b[0;34m\u001b[0m\u001b[0;34m\u001b[0m\u001b[0m\n\u001b[0m\u001b[1;32m     50\u001b[0m         \u001b[0;31m# positional_embd = self.positional_embd(positions)\u001b[0m\u001b[0;34m\u001b[0m\u001b[0;34m\u001b[0m\u001b[0m\n\u001b[1;32m     51\u001b[0m \u001b[0;34m\u001b[0m\u001b[0m\n",
            "\u001b[0;32m/usr/local/lib/python3.10/dist-packages/torch/nn/modules/module.py\u001b[0m in \u001b[0;36m_call_impl\u001b[0;34m(self, *args, **kwargs)\u001b[0m\n\u001b[1;32m   1499\u001b[0m                 \u001b[0;32mor\u001b[0m \u001b[0m_global_backward_pre_hooks\u001b[0m \u001b[0;32mor\u001b[0m \u001b[0m_global_backward_hooks\u001b[0m\u001b[0;34m\u001b[0m\u001b[0;34m\u001b[0m\u001b[0m\n\u001b[1;32m   1500\u001b[0m                 or _global_forward_hooks or _global_forward_pre_hooks):\n\u001b[0;32m-> 1501\u001b[0;31m             \u001b[0;32mreturn\u001b[0m \u001b[0mforward_call\u001b[0m\u001b[0;34m(\u001b[0m\u001b[0;34m*\u001b[0m\u001b[0margs\u001b[0m\u001b[0;34m,\u001b[0m \u001b[0;34m**\u001b[0m\u001b[0mkwargs\u001b[0m\u001b[0;34m)\u001b[0m\u001b[0;34m\u001b[0m\u001b[0;34m\u001b[0m\u001b[0m\n\u001b[0m\u001b[1;32m   1502\u001b[0m         \u001b[0;31m# Do not call functions when jit is used\u001b[0m\u001b[0;34m\u001b[0m\u001b[0;34m\u001b[0m\u001b[0m\n\u001b[1;32m   1503\u001b[0m         \u001b[0mfull_backward_hooks\u001b[0m\u001b[0;34m,\u001b[0m \u001b[0mnon_full_backward_hooks\u001b[0m \u001b[0;34m=\u001b[0m \u001b[0;34m[\u001b[0m\u001b[0;34m]\u001b[0m\u001b[0;34m,\u001b[0m \u001b[0;34m[\u001b[0m\u001b[0;34m]\u001b[0m\u001b[0;34m\u001b[0m\u001b[0;34m\u001b[0m\u001b[0m\n",
            "\u001b[0;32m<ipython-input-4-27dba7b3031a>\u001b[0m in \u001b[0;36mforward\u001b[0;34m(self, x)\u001b[0m\n\u001b[1;32m     16\u001b[0m         \u001b[0mx\u001b[0m \u001b[0;34m=\u001b[0m \u001b[0mx\u001b[0m\u001b[0;34m.\u001b[0m\u001b[0mlong\u001b[0m\u001b[0;34m(\u001b[0m\u001b[0;34m)\u001b[0m\u001b[0;34m\u001b[0m\u001b[0;34m\u001b[0m\u001b[0m\n\u001b[1;32m     17\u001b[0m         \u001b[0mprint\u001b[0m\u001b[0;34m(\u001b[0m\u001b[0;34mf'{x.long=}'\u001b[0m\u001b[0;34m)\u001b[0m\u001b[0;34m\u001b[0m\u001b[0;34m\u001b[0m\u001b[0m\n\u001b[0;32m---> 18\u001b[0;31m         \u001b[0mhour_embed\u001b[0m \u001b[0;34m=\u001b[0m \u001b[0mself\u001b[0m\u001b[0;34m.\u001b[0m\u001b[0mhour_embd\u001b[0m\u001b[0;34m(\u001b[0m\u001b[0mx\u001b[0m\u001b[0;34m[\u001b[0m\u001b[0;34m:\u001b[0m\u001b[0;34m,\u001b[0m \u001b[0;34m:\u001b[0m\u001b[0;34m,\u001b[0m \u001b[0;36m3\u001b[0m\u001b[0;34m]\u001b[0m\u001b[0;34m)\u001b[0m\u001b[0;34m\u001b[0m\u001b[0;34m\u001b[0m\u001b[0m\n\u001b[0m\u001b[1;32m     19\u001b[0m         \u001b[0mweekday_embed\u001b[0m \u001b[0;34m=\u001b[0m \u001b[0mself\u001b[0m\u001b[0;34m.\u001b[0m\u001b[0mweekday_embd\u001b[0m\u001b[0;34m(\u001b[0m\u001b[0mx\u001b[0m\u001b[0;34m[\u001b[0m\u001b[0;34m:\u001b[0m\u001b[0;34m,\u001b[0m \u001b[0;34m:\u001b[0m\u001b[0;34m,\u001b[0m \u001b[0;36m2\u001b[0m\u001b[0;34m]\u001b[0m\u001b[0;34m)\u001b[0m\u001b[0;34m\u001b[0m\u001b[0;34m\u001b[0m\u001b[0m\n\u001b[1;32m     20\u001b[0m         \u001b[0mday_embed\u001b[0m \u001b[0;34m=\u001b[0m \u001b[0mself\u001b[0m\u001b[0;34m.\u001b[0m\u001b[0mday_embd\u001b[0m\u001b[0;34m(\u001b[0m\u001b[0mx\u001b[0m\u001b[0;34m[\u001b[0m\u001b[0;34m:\u001b[0m\u001b[0;34m,\u001b[0m \u001b[0;34m:\u001b[0m\u001b[0;34m,\u001b[0m \u001b[0;36m1\u001b[0m\u001b[0;34m]\u001b[0m\u001b[0;34m)\u001b[0m\u001b[0;34m\u001b[0m\u001b[0;34m\u001b[0m\u001b[0m\n",
            "\u001b[0;31mIndexError\u001b[0m: too many indices for tensor of dimension 2"
          ]
        }
      ]
    },
    {
      "cell_type": "code",
      "execution_count": null,
      "id": "bf8f95d4",
      "metadata": {
        "scrolled": true,
        "id": "bf8f95d4",
        "outputId": "8b9b81ad-1f40-453e-c1d5-4c7bce97b4d9",
        "colab": {
          "base_uri": "https://localhost:8080/"
        }
      },
      "outputs": [
        {
          "output_type": "stream",
          "name": "stdout",
          "text": [
            "Training on 321/321 batches per epoch.\n"
          ]
        }
      ],
      "source": [
        "# Train\n",
        "bs = 32\n",
        "n_epochs = 10\n",
        "training_data_frac = 1\n",
        "# model_trainer.train_1_eg(n_epochs)\n",
        "model_trainer.train(n_epochs, bs, training_data_frac)"
      ]
    },
    {
      "cell_type": "code",
      "source": [
        "model_trainer.plot_loss(1)"
      ],
      "metadata": {
        "colab": {
          "base_uri": "https://localhost:8080/",
          "height": 430
        },
        "id": "ExteMhyADjbs",
        "outputId": "05005fbd-f18c-4f1c-88be-0f58d7374a8b"
      },
      "id": "ExteMhyADjbs",
      "execution_count": null,
      "outputs": [
        {
          "output_type": "display_data",
          "data": {
            "text/plain": [
              "<Figure size 640x480 with 2 Axes>"
            ],
            "image/png": "[encoded data removed]"
          },
          "metadata": {}
        }
      ]
    },
    {
      "cell_type": "code",
      "source": [
        "model_trainer.plot_example(split='val', idx=-100)"
      ],
      "metadata": {
        "colab": {
          "base_uri": "https://localhost:8080/",
          "height": 465
        },
        "id": "ffINp8ucnZW1",
        "outputId": "8640ef1d-60e9-4d59-ffa4-1ee8194e7ac5"
      },
      "id": "ffINp8ucnZW1",
      "execution_count": null,
      "outputs": [
        {
          "output_type": "stream",
          "name": "stdout",
          "text": [
            "x.shape=torch.Size([1, 96, 7])\n",
            "input.shape=(96,)\n"
          ]
        },
        {
          "output_type": "display_data",
          "data": {
            "text/plain": [
              "<Figure size 640x480 with 1 Axes>"
            ],
            "image/png": "[encoded data removed]"
          },
          "metadata": {}
        }
      ]
    },
    {
      "cell_type": "code",
      "source": [
        "# from google.colab import files\n",
        "# import os\n",
        "# directory = 'C:/Users/adamm/OneDrive/Documents'\n",
        "# filename = save_path\n",
        "# file_path = os.path.join(directory, filename)\n",
        "# files.download(save_path, path=file_path)"
      ],
      "metadata": {
        "id": "ObPR4umJlqKk"
      },
      "id": "ObPR4umJlqKk",
      "execution_count": null,
      "outputs": []
    },
    {
      "cell_type": "code",
      "source": [
        "ts_handler.y_test[97].shape"
      ],
      "metadata": {
        "colab": {
          "base_uri": "https://localhost:8080/"
        },
        "id": "LhXNslp0Puxv",
        "outputId": "8e85d936-01c9-4e61-8c10-2d8fe0cbd801"
      },
      "id": "LhXNslp0Puxv",
      "execution_count": null,
      "outputs": [
        {
          "output_type": "execute_result",
          "data": {
            "text/plain": [
              "torch.Size([96, 1])"
            ]
          },
          "metadata": {},
          "execution_count": 161
        }
      ]
    },
    {
      "cell_type": "code",
      "execution_count": null,
      "id": "ea9f33da",
      "metadata": {
        "id": "ea9f33da",
        "outputId": "b78246db-e118-42d8-8c65-1bd7609bc279",
        "colab": {
          "base_uri": "https://localhost:8080/",
          "height": 447
        }
      },
      "outputs": [
        {
          "output_type": "execute_result",
          "data": {
            "text/plain": [
              "<matplotlib.legend.Legend at 0x7ff99ca62f80>"
            ]
          },
          "metadata": {},
          "execution_count": 148
        },
        {
          "output_type": "display_data",
          "data": {
            "text/plain": [
              "<Figure size 640x480 with 1 Axes>"
            ],
            "image/png": "[encoded data removed]"
          },
          "metadata": {}
        }
      ],
      "source": [
        "x = ts_handler.X_test[97].unsqueeze(0).to(device)\n",
        "y = ts_handler.y_test[97].squeeze(-1)\n",
        "model_trainer.model.eval()\n",
        "pred = model_trainer.model(x).squeeze(0).squeeze(-1).cpu().detach().numpy()\n",
        "fig, ax = plt.subplots()\n",
        "ax.plot(y, label='actual')\n",
        "ax.plot(pred, label='generated')\n",
        "ax.legend()"
      ]
    },
    {
      "cell_type": "code",
      "execution_count": null,
      "id": "07f8cf3b",
      "metadata": {
        "id": "07f8cf3b",
        "outputId": "49f8ec0b-2d85-4bc8-87a2-8c750f3d08e8"
      },
      "outputs": [
        {
          "data": {
            "text/plain": [
              "<matplotlib.legend.Legend at 0x12ef3c663b0>"
            ]
          },
          "execution_count": 678,
          "metadata": {},
          "output_type": "execute_result"
        },
        {
          "data": {
            "image/png": "[encoded data removed]",
            "text/plain": [
              "<Figure size 640x480 with 1 Axes>"
            ]
          },
          "metadata": {},
          "output_type": "display_data"
        }
      ],
      "source": [
        "fig, ax = plt.subplots()\n",
        "t1 = np.arange(config.context_length)\n",
        "t2 = np.arange(config.context_length, config.context_length+config.n_predict)\n",
        "\n",
        "ax.plot(t1, starting_ts, label=\"input\")\n",
        "ax.plot(t2, generated_ts, label=\"generated\")\n",
        "ax.plot(t3, actual, label=\"actual\")\n",
        "ax.legend()"
      ]
    }
  ],
  "metadata": {
    "kernelspec": {
      "display_name": "Python 3",
      "name": "python3"
    },
    "language_info": {
      "codemirror_mode": {
        "name": "ipython",
        "version": 3
      },
      "file_extension": ".py",
      "mimetype": "text/x-python",
      "name": "python",
      "nbconvert_exporter": "python",
      "pygments_lexer": "ipython3",
      "version": "3.10.6"
    },
    "colab": {
      "provenance": [],
      "gpuType": "T4",
      "include_colab_link": true
    },
    "accelerator": "GPU"
  },
  "nbformat": 4,
  "nbformat_minor": 5
}